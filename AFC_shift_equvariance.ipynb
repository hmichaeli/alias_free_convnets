{
  "nbformat": 4,
  "nbformat_minor": 0,
  "metadata": {
    "colab": {
      "provenance": [],
      "gpuType": "T4",
      "authorship_tag": "ABX9TyNKb49HBTZ81Zfj4pt8mh4d",
      "include_colab_link": true
    },
    "kernelspec": {
      "name": "python3",
      "display_name": "Python 3"
    },
    "language_info": {
      "name": "python"
    },
    "accelerator": "GPU"
  },
  "cells": [
    {
      "cell_type": "markdown",
      "metadata": {
        "id": "view-in-github",
        "colab_type": "text"
      },
      "source": [
        "<a href=\"https://colab.research.google.com/github/hmichaeli/alias_free_convnets/blob/main/AFC_shift_equvariance.ipynb\" target=\"_parent\"><img src=\"https://colab.research.google.com/assets/colab-badge.svg\" alt=\"Open In Colab\"/></a>"
      ]
    },
    {
      "cell_type": "code",
      "source": [
        "from huggingface_hub import hf_hub_download\n",
        "import torch\n",
        "from torchvision import datasets, transforms\n",
        "from alias_free_convnets.models.convnext_afc import convnext_afc_tiny\n",
        "from PIL import Image\n",
        "\n",
        "import torch\n",
        "import torch.nn.functional as F\n",
        "from torchvision import transforms\n",
        "from models.ideal_lpf import UpsampleRFFT"
      ],
      "metadata": {
        "id": "WlD7WP-EZB9d"
      },
      "execution_count": 25,
      "outputs": []
    },
    {
      "cell_type": "code",
      "execution_count": 26,
      "metadata": {
        "colab": {
          "base_uri": "https://localhost:8080/"
        },
        "id": "Epb6V89kMzM1",
        "outputId": "f432a47c-6f63-419d-b0c5-64cc28eeaf3e"
      },
      "outputs": [
        {
          "output_type": "stream",
          "name": "stdout",
          "text": [
            "Cloning into 'alias_free_convnets'...\n",
            "remote: Enumerating objects: 124, done.\u001b[K\n",
            "remote: Counting objects: 100% (124/124), done.\u001b[K\n",
            "remote: Compressing objects: 100% (94/94), done.\u001b[K\n",
            "remote: Total 124 (delta 33), reused 102 (delta 20), pack-reused 0 (from 0)\u001b[K\n",
            "Receiving objects: 100% (124/124), 10.05 MiB | 19.19 MiB/s, done.\n",
            "Resolving deltas: 100% (33/33), done.\n",
            "/content/alias_free_convnets/alias_free_convnets/alias_free_convnets\n"
          ]
        }
      ],
      "source": [
        "# !rm -rf alias_free_convnets\n",
        "!git clone https://github.com/hmichaeli/alias_free_convnets.git\n",
        "%cd alias_free_convnets"
      ]
    },
    {
      "cell_type": "code",
      "source": [
        "\n",
        "device = torch.device(\"cuda\" if torch.cuda.is_available() else \"cpu\")\n",
        "\n",
        "# baseline\n",
        "path = hf_hub_download(repo_id=\"hmichaeli/convnext-afc\", filename=\"convnext_tiny_basline.pth\")\n",
        "ckpt = torch.load(path, map_location=\"cpu\")\n",
        "base_model = convnext_afc_tiny(pretrained=False, num_classes=1000)\n",
        "base_model.load_state_dict(ckpt, strict=True)\n",
        "base_model = base_model.to(device).eval()\n",
        "\n",
        "# AFC\n",
        "path = hf_hub_download(repo_id=\"hmichaeli/convnext-afc\", filename=\"convnext_tiny_afc.pth\")\n",
        "ckpt = torch.load(path, map_location=\"cpu\")\n",
        "afc_model = convnext_afc_tiny(\n",
        "        pretrained=False,\n",
        "        num_classes=1000,\n",
        "        activation='up_poly_per_channel',\n",
        "        activation_kwargs={'in_scale': 7, 'out_scale': 7, 'train_scale': True},\n",
        "        blurpool_kwargs={\"filter_type\": \"ideal\", \"scale_l2\": False},\n",
        "        normalization_type='CHW2',\n",
        "        stem_activation_kwargs={\"in_scale\": 7, \"out_scale\": 7, \"train_scale\": True, \"cutoff\": 0.75},\n",
        "        normalization_kwargs={},\n",
        "        stem_mode='activation_residual', stem_activation='lpf_poly_per_channel'\n",
        "    )\n",
        "afc_model.load_state_dict(ckpt, strict=False)\n",
        "afc_model = afc_model.to(device).eval()\n"
      ],
      "metadata": {
        "colab": {
          "base_uri": "https://localhost:8080/"
        },
        "id": "d9niZfitNSIj",
        "outputId": "e88dac56-dc07-4f57-eb5f-9c7704c6d3f3"
      },
      "execution_count": 27,
      "outputs": [
        {
          "output_type": "stream",
          "name": "stderr",
          "text": [
            "<ipython-input-27-345fc322a9ba>:5: FutureWarning: You are using `torch.load` with `weights_only=False` (the current default value), which uses the default pickle module implicitly. It is possible to construct malicious pickle data which will execute arbitrary code during unpickling (See https://github.com/pytorch/pytorch/blob/main/SECURITY.md#untrusted-models for more details). In a future release, the default value for `weights_only` will be flipped to `True`. This limits the functions that could be executed during unpickling. Arbitrary objects will no longer be allowed to be loaded via this mode unless they are explicitly allowlisted by the user via `torch.serialization.add_safe_globals`. We recommend you start setting `weights_only=True` for any use case where you don't have full control of the loaded file. Please open an issue on GitHub for any issues related to this experimental feature.\n",
            "  ckpt = torch.load(path, map_location=\"cpu\")\n"
          ]
        },
        {
          "output_type": "stream",
          "name": "stdout",
          "text": [
            "ConvNext kwargs:  {'num_classes': 1000}\n"
          ]
        },
        {
          "output_type": "stream",
          "name": "stderr",
          "text": [
            "<ipython-input-27-345fc322a9ba>:12: FutureWarning: You are using `torch.load` with `weights_only=False` (the current default value), which uses the default pickle module implicitly. It is possible to construct malicious pickle data which will execute arbitrary code during unpickling (See https://github.com/pytorch/pytorch/blob/main/SECURITY.md#untrusted-models for more details). In a future release, the default value for `weights_only` will be flipped to `True`. This limits the functions that could be executed during unpickling. Arbitrary objects will no longer be allowed to be loaded via this mode unless they are explicitly allowlisted by the user via `torch.serialization.add_safe_globals`. We recommend you start setting `weights_only=True` for any use case where you don't have full control of the loaded file. Please open an issue on GitHub for any issues related to this experimental feature.\n",
            "  ckpt = torch.load(path, map_location=\"cpu\")\n"
          ]
        },
        {
          "output_type": "stream",
          "name": "stdout",
          "text": [
            "ConvNext kwargs:  {'num_classes': 1000, 'activation': 'up_poly_per_channel', 'activation_kwargs': {'in_scale': 7, 'out_scale': 7, 'train_scale': True}, 'blurpool_kwargs': {'filter_type': 'ideal', 'scale_l2': False}, 'normalization_type': 'CHW2', 'stem_activation_kwargs': {'in_scale': 7, 'out_scale': 7, 'train_scale': True, 'cutoff': 0.75}, 'normalization_kwargs': {}, 'stem_mode': 'activation_residual', 'stem_activation': 'lpf_poly_per_channel'}\n"
          ]
        }
      ]
    },
    {
      "cell_type": "code",
      "source": [
        "# load example image\n",
        "interpolation = transforms.InterpolationMode.BICUBIC\n",
        "IMAGENET_DEFAULT_MEAN = (0.485, 0.456, 0.406)\n",
        "IMAGENET_DEFAULT_STD = (0.229, 0.224, 0.225)\n",
        "transform = transforms.Compose([\n",
        "    transforms.Resize(256, interpolation=interpolation),\n",
        "    transforms.CenterCrop(224),\n",
        "    transforms.ToTensor(),\n",
        "    transforms.Normalize(IMAGENET_DEFAULT_MEAN, IMAGENET_DEFAULT_STD),\n",
        "])\n",
        "\n",
        "img_path = \"./assets/n01608432_3247.JPEG\"\n",
        "image = Image.open(img_path)\n",
        "image = transform(image).unsqueeze(0).to(device)\n"
      ],
      "metadata": {
        "id": "AFgExh4WSbgF"
      },
      "execution_count": 28,
      "outputs": []
    },
    {
      "cell_type": "code",
      "source": [
        "@torch.no_grad()\n",
        "def shift_and_compare(model, image, shift_x, shift_y):\n",
        "    \"\"\"\n",
        "    Cyclic-Shifts the image, extracts features, upsamples, shifts back, and compares.\n",
        "\n",
        "    Args:\n",
        "      model: The PyTorch model to use for feature extraction.\n",
        "      image: The input image tensor.\n",
        "      shift_x: Horizontal shift amount.\n",
        "      shift_y: Vertical shift amount.\n",
        "\n",
        "    Returns:\n",
        "      A tuple containing:\n",
        "        - The original feature map.\n",
        "        - The shifted and reversed feature map.\n",
        "        - The difference between the two feature maps.\n",
        "    \"\"\"\n",
        "\n",
        "    # Shift the image cyclically\n",
        "    shifted_image = torch.roll(image, shifts=(shift_x, shift_y), dims=(3, 2))\n",
        "\n",
        "    # Get feature maps from the model\n",
        "    feature_map = model.forward_features(image, avgpool=False)\n",
        "    shifted_feature_map = model.forward_features(shifted_image, avgpool=False)\n",
        "\n",
        "    # Upsample to the original image size\n",
        "    size_ratio = int(image.shape[-1] / feature_map.shape[-1])\n",
        "    feature_map = UpsampleRFFT(size_ratio)(feature_map)\n",
        "    shifted_feature_map = UpsampleRFFT(size_ratio)(shifted_feature_map)\n",
        "\n",
        "    # Reverse the shift\n",
        "    shifted_feature_map = torch.roll(shifted_feature_map, shifts=(-shift_x, -shift_y), dims=(3, 2))\n",
        "\n",
        "    # Featuremap shift-equivariance diff\n",
        "    difference = torch.abs(shifted_feature_map - feature_map)\n",
        "    print(\"featuremap avg diff: \", torch.mean(difference))\n",
        "\n",
        "    # Feature-vector invariance / sum-shift invariance\n",
        "    feature_vec = torch.mean(feature_map, dim=(2, 3))\n",
        "    shifted_feature_vec = torch.mean(shifted_feature_map, dim=(2, 3))\n",
        "\n",
        "    print(\"feature vector diff: \", torch.mean(torch.abs(feature_vec - shifted_feature_vec)))\n",
        "\n",
        "\n",
        "print(\"baseline: \")\n",
        "shift_and_compare(base_model, image, 1, 1)\n",
        "print(\"afc: \")\n",
        "shift_and_compare(afc_model, image, 1, 1)\n"
      ],
      "metadata": {
        "colab": {
          "base_uri": "https://localhost:8080/"
        },
        "id": "xN8cNweWSkkM",
        "outputId": "8a40b608-7b8e-4928-a7cd-116547777904"
      },
      "execution_count": 29,
      "outputs": [
        {
          "output_type": "stream",
          "name": "stdout",
          "text": [
            "baseline: \n",
            "featuremap avg diff:  tensor(0.2781, device='cuda:0')\n",
            "feature vector diff:  tensor(0.0941, device='cuda:0')\n",
            "afc: \n",
            "featuremap avg diff:  tensor(1.3378e-05, device='cuda:0')\n",
            "feature vector diff:  tensor(3.4836e-06, device='cuda:0')\n"
          ]
        }
      ]
    }
  ]
}